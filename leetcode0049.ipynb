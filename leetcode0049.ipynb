{
 "cells": [
  {
   "cell_type": "code",
   "execution_count": 19,
   "metadata": {},
   "outputs": [],
   "source": [
    "# 0049 Group Anagrams\n",
    "\n",
    "# Given an array of strings 'strs', group the anagrams together. You can return the answer in any order.\n",
    "\n",
    "def groupAnagrams(strs):\n",
    "    # Creates a list of tuples, where each tuple is (index, sorted string)\n",
    "    tuples = []\n",
    "    for i in range(len(strs)):\n",
    "        tuples.append((i, \"\".join(sorted(strs[i]))))\n",
    "    tuples.sort(key=lambda x: x[1])\n",
    "    print(tuples)\n",
    "    \n",
    "    # Creates a list of lists, where each list is a group of anagrams\n",
    "    result = []\n",
    "    temp = []\n",
    "    for i in range(len(tuples)):\n",
    "        if i == 0:\n",
    "            temp.append(strs[tuples[i][0]])\n",
    "        elif tuples[i][1] == tuples[i-1][1]:\n",
    "            temp.append(strs[tuples[i][0]])\n",
    "        else:\n",
    "            # Adds the list of anagrams to the result list, and resets the temp list to the current anagram\n",
    "            result.append(temp)\n",
    "            temp = [strs[tuples[i][0]]]\n",
    "    result.append(temp)\n",
    "    return result\n",
    "    \n"
   ]
  },
  {
   "cell_type": "code",
   "execution_count": 20,
   "metadata": {},
   "outputs": [
    {
     "name": "stdout",
     "output_type": "stream",
     "text": [
      "[(5, 'abt'), (0, 'aet'), (1, 'aet'), (3, 'aet'), (2, 'ant'), (4, 'ant')]\n",
      "['tan', 'nat']\n"
     ]
    },
    {
     "data": {
      "text/plain": [
       "[['bat'], ['eat', 'tea', 'ate'], ['tan', 'nat']]"
      ]
     },
     "execution_count": 20,
     "metadata": {},
     "output_type": "execute_result"
    }
   ],
   "source": [
    "groupAnagrams([\"eat\",\"tea\",\"tan\",\"ate\",\"nat\",\"bat\"])"
   ]
  },
  {
   "cell_type": "code",
   "execution_count": null,
   "metadata": {},
   "outputs": [],
   "source": []
  }
 ],
 "metadata": {
  "kernelspec": {
   "display_name": "base",
   "language": "python",
   "name": "python3"
  },
  "language_info": {
   "codemirror_mode": {
    "name": "ipython",
    "version": 3
   },
   "file_extension": ".py",
   "mimetype": "text/x-python",
   "name": "python",
   "nbconvert_exporter": "python",
   "pygments_lexer": "ipython3",
   "version": "3.9.12"
  },
  "orig_nbformat": 4
 },
 "nbformat": 4,
 "nbformat_minor": 2
}
