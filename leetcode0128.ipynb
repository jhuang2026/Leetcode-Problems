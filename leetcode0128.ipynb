{
 "cells": [
  {
   "cell_type": "code",
   "execution_count": 24,
   "metadata": {},
   "outputs": [],
   "source": [
    "# 0128 Longest Consecutive Sequence\n",
    "\n",
    "# Given an unsorted array of integers nums, return the length of the longest consecutive elements sequence.\n",
    "\n",
    "def longestConsecutive(nums):\n",
    "    # Remove duplicates, and sorts the list\n",
    "    nums = set(nums)\n",
    "    nums = list(nums)\n",
    "    nums.sort()\n",
    "\n",
    "    max_count = 0\n",
    "    count = 0\n",
    "    if len(nums) == 0:\n",
    "        return 0\n",
    "\n",
    "    # Iterate through the list, and counts the number of consecutive elements, difference of 1\n",
    "    for i in range(len(nums)-1):\n",
    "        if nums[i+1] - nums[i] == 1:\n",
    "            count += 1\n",
    "        else:\n",
    "            max_count = max(max_count, count)\n",
    "            count = 0\n",
    "    return max(max_count, count) + 1"
   ]
  }
 ],
 "metadata": {
  "kernelspec": {
   "display_name": "base",
   "language": "python",
   "name": "python3"
  },
  "language_info": {
   "codemirror_mode": {
    "name": "ipython",
    "version": 3
   },
   "file_extension": ".py",
   "mimetype": "text/x-python",
   "name": "python",
   "nbconvert_exporter": "python",
   "pygments_lexer": "ipython3",
   "version": "3.9.12"
  },
  "orig_nbformat": 4
 },
 "nbformat": 4,
 "nbformat_minor": 2
}
