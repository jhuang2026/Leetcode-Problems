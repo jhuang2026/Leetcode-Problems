{
 "cells": [
  {
   "cell_type": "code",
   "execution_count": 10,
   "metadata": {},
   "outputs": [],
   "source": [
    "# 0167 Two Sum II - Input Array is Sorted\n",
    "\n",
    "# Given an array of integers that is already sorted in ascending order, find two numbers such that they add up to a specific target number.\n",
    "\n",
    "def twoSum(numbers, target):\n",
    "\n",
    "    # Brute force\n",
    "    # for i in range(len(numbers)):\n",
    "    #     for j in range(i+1, len(numbers)):\n",
    "    #         if numbers[i] + numbers[j] == target:\n",
    "    #             indexes.append(i+1)\n",
    "    #             indexes.append(j+1)\n",
    "    #             return indexes\n",
    "            \n",
    "    # Uses dictionary to store the difference between target and numbers[i]\n",
    "    difference = {}\n",
    "    \n",
    "    # Uses O(n) time complexity\n",
    "    for i in range(len(numbers)):\n",
    "        if numbers[i] in difference:\n",
    "            return [difference[numbers[i]]+1, i+1]\n",
    "        else:\n",
    "            difference[target - numbers[i]] = i"
   ]
  }
 ],
 "metadata": {
  "kernelspec": {
   "display_name": "base",
   "language": "python",
   "name": "python3"
  },
  "language_info": {
   "codemirror_mode": {
    "name": "ipython",
    "version": 3
   },
   "file_extension": ".py",
   "mimetype": "text/x-python",
   "name": "python",
   "nbconvert_exporter": "python",
   "pygments_lexer": "ipython3",
   "version": "3.9.12"
  },
  "orig_nbformat": 4
 },
 "nbformat": 4,
 "nbformat_minor": 2
}
