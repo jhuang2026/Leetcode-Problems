{
 "cells": [
  {
   "cell_type": "code",
   "execution_count": 58,
   "metadata": {},
   "outputs": [],
   "source": [
    "# 0424 Longest Repeating Character Replacement\n",
    "\n",
    "# Given a string s and an integer k, return the length of the longest substring of s\n",
    "# containing the same letter given you can replace at most k characters.\n",
    "\n",
    "def characterReplacement(s, k):\n",
    "    count = {}\n",
    "    result = 0\n",
    "\n",
    "    lpointer = 0\n",
    "\n",
    "    for i in range(len(s)):\n",
    "        # The count.get(s[i], 0) retrieves the current count of s[i] from the dictionary, \n",
    "        # and if it doesn't exist, it returns 0.\n",
    "        count[s[i]] = count.get(s[i], 0) + 1\n",
    "\n",
    "        # Check if the current window is valid\n",
    "        if i - lpointer + 1 - max(count.values()) > k:\n",
    "            count[s[lpointer]] -= 1\n",
    "            lpointer += 1\n",
    "            \n",
    "        result = max(result, i - lpointer + 1)\n",
    "\n",
    "    return result \n"
   ]
  }
 ],
 "metadata": {
  "kernelspec": {
   "display_name": "base",
   "language": "python",
   "name": "python3"
  },
  "language_info": {
   "codemirror_mode": {
    "name": "ipython",
    "version": 3
   },
   "file_extension": ".py",
   "mimetype": "text/x-python",
   "name": "python",
   "nbconvert_exporter": "python",
   "pygments_lexer": "ipython3",
   "version": "3.9.12"
  },
  "orig_nbformat": 4
 },
 "nbformat": 4,
 "nbformat_minor": 2
}
