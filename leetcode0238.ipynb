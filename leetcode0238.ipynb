{
 "cells": [
  {
   "cell_type": "code",
   "execution_count": 15,
   "metadata": {},
   "outputs": [],
   "source": [
    "# 0238 Product of Array Except Self\n",
    "\n",
    "# Given an integer array nums, return an array answer such that answer[i] is equal to the product of all the elements of nums except nums[i].\n",
    "\n",
    "def productExceptSelf(nums):\n",
    "    left = [1] * len(nums)\n",
    "    right = [1] * len(nums)\n",
    "\n",
    "    # The left array will contain the product of all the elements to the left\n",
    "    for i in range(1, len(nums)):\n",
    "        left[i] = left[i-1] * nums[i-1]\n",
    "\n",
    "    # The right array will contain the product of all the elements to the right\n",
    "    for i in range(len(nums)-2, -1, -1):\n",
    "        right[i] = right[i+1] * nums[i+1]\n",
    "\n",
    "    for i in range(len(nums)):\n",
    "        nums[i] = left[i] * right[i]\n",
    "\n",
    "    return nums\n"
   ]
  }
 ],
 "metadata": {
  "kernelspec": {
   "display_name": "base",
   "language": "python",
   "name": "python3"
  },
  "language_info": {
   "codemirror_mode": {
    "name": "ipython",
    "version": 3
   },
   "file_extension": ".py",
   "mimetype": "text/x-python",
   "name": "python",
   "nbconvert_exporter": "python",
   "pygments_lexer": "ipython3",
   "version": "3.9.12"
  },
  "orig_nbformat": 4
 },
 "nbformat": 4,
 "nbformat_minor": 2
}
