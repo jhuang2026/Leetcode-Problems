{
 "cells": [
  {
   "cell_type": "code",
   "execution_count": 129,
   "metadata": {},
   "outputs": [],
   "source": [
    "# 0015 3Sum\n",
    "\n",
    "# Given an integer array nums, return all the triplets [nums[i], nums[j], nums[k]]\n",
    "# such that i != j, i != k, and j != k, and nums[i] + nums[j] + nums[k] == 0.\n",
    "\n",
    "def threeSum(nums):\n",
    "\n",
    "    # Brute force\n",
    "    # output = []\n",
    "    # for i in range(len(nums)):\n",
    "    #     for j in range(i+1, len(nums)):\n",
    "    #         for k in range(j+1, len(nums)):\n",
    "    #             if nums[i] + nums[j] + nums[k] == 0:\n",
    "    #                 output.append(sorted([nums[i], nums[j], nums[k]]))\n",
    "\n",
    "    # # convert to tuples to remove duplicates\n",
    "    # output = set(map(tuple, output))\n",
    "\n",
    "    # # convert back to lists\n",
    "    # output = list(map(list, output))\n",
    "\n",
    "    # return output\n",
    "\n",
    "\n",
    "    # Uses a two pointers approach\n",
    "    nums.sort()\n",
    "    output = []\n",
    "    for i in range(len(nums)):\n",
    "        # i is not the first element of the array, and the array isn't equal to the previous one\n",
    "        if i > 0 and nums[i] == nums[i-1]:\n",
    "            continue\n",
    "        l, r = i+1, len(nums)-1\n",
    "        while l < r:\n",
    "            # move the pointers when the sum is not equal to 0\n",
    "            s = nums[i] + nums[l] + nums[r]\n",
    "            if s > 0:\n",
    "                r -= 1\n",
    "            elif s < 0:\n",
    "                l += 1\n",
    "            else:\n",
    "                output.append([nums[i], nums[l], nums[r]])\n",
    "                # moves the pointers when the next element is equal to the previous one\n",
    "                while l < r and nums[l] == nums[l+1]:\n",
    "                    l += 1\n",
    "                while l < r and nums[r] == nums[r-1]:\n",
    "                    r -= 1\n",
    "                l += 1\n",
    "                r -= 1\n",
    "                \n",
    "    return output   \n",
    "\n"
   ]
  }
 ],
 "metadata": {
  "kernelspec": {
   "display_name": "base",
   "language": "python",
   "name": "python3"
  },
  "language_info": {
   "codemirror_mode": {
    "name": "ipython",
    "version": 3
   },
   "file_extension": ".py",
   "mimetype": "text/x-python",
   "name": "python",
   "nbconvert_exporter": "python",
   "pygments_lexer": "ipython3",
   "version": "3.9.12"
  },
  "orig_nbformat": 4
 },
 "nbformat": 4,
 "nbformat_minor": 2
}
