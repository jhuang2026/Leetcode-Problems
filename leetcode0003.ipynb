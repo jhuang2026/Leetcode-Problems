{
 "cells": [
  {
   "cell_type": "code",
   "execution_count": 44,
   "metadata": {},
   "outputs": [],
   "source": [
    "# 0003 Longest Substring Without Repeating Characters\n",
    "\n",
    "# Given a string, find the length of the longest substring without repeating characters.\n",
    "\n",
    "def lengthOfLongestSubstring(s):\n",
    "\n",
    "    # Time complexity O(n^2)\n",
    "    # if len(s) == 1:\n",
    "    #     return 1\n",
    "    # max_len = 0\n",
    "    # for i in range(len(s)):\n",
    "    #     for j in range(i+1, len(s)+1):\n",
    "    #         if len(set(s[i:j])) == len(s[i:j]):\n",
    "    #             max_len = max(max_len, len(s[i:j]))\n",
    "    # return max_len\n",
    "\n",
    "    char_set = set()\n",
    "    max_len = 0\n",
    "    # i represents the start of the substring\n",
    "    i = 0\n",
    "\n",
    "    # Time complexity O(n)\n",
    "    for j in range(len(s)):\n",
    "        while s[j] in char_set:\n",
    "            char_set.remove(s[i])\n",
    "            i += 1\n",
    "        char_set.add(s[j])\n",
    "        # length of substring is j-i+1\n",
    "        max_len = max(max_len, j-i+1)\n",
    "\n",
    "    return max_len\n"
   ]
  }
 ],
 "metadata": {
  "kernelspec": {
   "display_name": "base",
   "language": "python",
   "name": "python3"
  },
  "language_info": {
   "codemirror_mode": {
    "name": "ipython",
    "version": 3
   },
   "file_extension": ".py",
   "mimetype": "text/x-python",
   "name": "python",
   "nbconvert_exporter": "python",
   "pygments_lexer": "ipython3",
   "version": "3.9.12"
  },
  "orig_nbformat": 4
 },
 "nbformat": 4,
 "nbformat_minor": 2
}
