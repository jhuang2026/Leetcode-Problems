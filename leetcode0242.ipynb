{
 "cells": [
  {
   "cell_type": "code",
   "execution_count": null,
   "metadata": {},
   "outputs": [],
   "source": [
    "# 0242 Valid Anagram\n",
    "\n",
    "# Given two strings s and t, return true if t is an anagram of s, and false otherwise.\n",
    "\n",
    "def isAnagram(s, t):\n",
    "    # Sorts the two strings into lists and compares them\n",
    "    mys = sorted(s)\n",
    "    myt = sorted(t)\n",
    "    \n",
    "    if mys != myt:\n",
    "        return False\n",
    "    else:\n",
    "        return True"
   ]
  }
 ],
 "metadata": {
  "language_info": {
   "name": "python"
  },
  "orig_nbformat": 4
 },
 "nbformat": 4,
 "nbformat_minor": 2
}
