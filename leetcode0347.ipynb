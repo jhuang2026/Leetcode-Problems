{
 "cells": [
  {
   "cell_type": "code",
   "execution_count": 66,
   "metadata": {},
   "outputs": [],
   "source": [
    "# 0347 Top K Frequent Elements\n",
    "\n",
    "# Given an integer array nums and an integer k, return the k most frequent elements.\n",
    "\n",
    "def topKFrequent(nums, k):\n",
    "    nums = sorted(nums)\n",
    "    \n",
    "    slice_index = []\n",
    "    for i in range(len(nums)-1):\n",
    "        if nums[i] != nums[i+1]:\n",
    "            slice_index.append(i+1)\n",
    "    print(slice_index)\n",
    "\n",
    "    new_nums = []\n",
    "    for i in range(len(slice_index)):\n",
    "        if i == 0:\n",
    "            new_nums.append(nums[:slice_index[i]])\n",
    "        else:\n",
    "            new_nums.append(nums[slice_index[i-1]:slice_index[i]])\n",
    "    if len(slice_index) == 0:\n",
    "        new_nums.append(nums)\n",
    "    else:\n",
    "        new_nums.append(nums[slice_index[-1]:])\n",
    "\n",
    "    new_nums = sorted(new_nums, key=lambda x: len(x), reverse=True)\n",
    "    res = []\n",
    "    for i in range(k):\n",
    "        res.append(new_nums[i][0])\n",
    "\n",
    "    return res"
   ]
  }
 ],
 "metadata": {
  "kernelspec": {
   "display_name": "base",
   "language": "python",
   "name": "python3"
  },
  "language_info": {
   "codemirror_mode": {
    "name": "ipython",
    "version": 3
   },
   "file_extension": ".py",
   "mimetype": "text/x-python",
   "name": "python",
   "nbconvert_exporter": "python",
   "pygments_lexer": "ipython3",
   "version": "3.9.12"
  },
  "orig_nbformat": 4
 },
 "nbformat": 4,
 "nbformat_minor": 2
}
