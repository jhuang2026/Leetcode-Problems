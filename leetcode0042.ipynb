{
 "cells": [
  {
   "cell_type": "code",
   "execution_count": 198,
   "metadata": {},
   "outputs": [],
   "source": [
    "# 0042 Trapping Rain Water\n",
    "\n",
    "# Given n non-negative integers representing an elevation map where the width of each bar is 1, compute how much water it can trap after raining.\n",
    "\n",
    "def trap(height):\n",
    "\n",
    "    # Time complexity: O(n^2)\n",
    "    # total_water = 0\n",
    "    # max_left = []\n",
    "    # max_right = []\n",
    "    # min_left_right = []\n",
    "\n",
    "    # for i in range(len(height)):\n",
    "    #     max_left.append(max(height[:i+1]))\n",
    "    #     max_right.append(max(height[i:]))\n",
    "    #     min_left_right.append(min(max_left[i], max_right[i]))\n",
    "    #     diff = min_left_right[i] - height[i]\n",
    "    #     if diff > 0:\n",
    "    #         total_water += diff\n",
    "\n",
    "    # return total_water\n",
    "\n",
    "\n",
    "    # Time complexity: O(n)\n",
    "    if not height:\n",
    "        return 0\n",
    "\n",
    "    left, right = 0, len(height) - 1\n",
    "    left_max, right_max = height[left], height[right]\n",
    "    total_water = 0\n",
    "\n",
    "    # At each step, it calculates the maximum height on the left and right sides and adds the difference between them and the current height to the total water.\n",
    "    while left < right:\n",
    "        if left_max < right_max:\n",
    "            left += 1\n",
    "            left_max = max(left_max, height[left])\n",
    "            total_water += left_max - height[left]\n",
    "        else:\n",
    "            right -= 1\n",
    "            right_max = max(right_max, height[right])\n",
    "            total_water += right_max - height[right]\n",
    "            \n",
    "    return total_water"
   ]
  }
 ],
 "metadata": {
  "kernelspec": {
   "display_name": "base",
   "language": "python",
   "name": "python3"
  },
  "language_info": {
   "codemirror_mode": {
    "name": "ipython",
    "version": 3
   },
   "file_extension": ".py",
   "mimetype": "text/x-python",
   "name": "python",
   "nbconvert_exporter": "python",
   "pygments_lexer": "ipython3",
   "version": "3.9.12"
  },
  "orig_nbformat": 4
 },
 "nbformat": 4,
 "nbformat_minor": 2
}
