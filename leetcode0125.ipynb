{
 "cells": [
  {
   "cell_type": "code",
   "execution_count": 3,
   "metadata": {},
   "outputs": [],
   "source": [
    "# 0125 Valid Palindrome\n",
    "\n",
    "# Given a string, return true if the string is a palindrome or false if it is not.\n",
    "\n",
    "import re\n",
    "\n",
    "def isPalindrome(s):\n",
    "    # Remove all non-alphanumeric characters\n",
    "    non_alphaStr = re.sub(r'[\\W_]', '', s)\n",
    "\n",
    "    # Convert to lowercase\n",
    "    non_alphaStr = non_alphaStr.lower()\n",
    "    \n",
    "    # Check if the string is a palindrome by comparing the original string with its reverse\n",
    "    return non_alphaStr == non_alphaStr[::-1]\n",
    "    \n",
    "\n"
   ]
  }
 ],
 "metadata": {
  "kernelspec": {
   "display_name": "base",
   "language": "python",
   "name": "python3"
  },
  "language_info": {
   "codemirror_mode": {
    "name": "ipython",
    "version": 3
   },
   "file_extension": ".py",
   "mimetype": "text/x-python",
   "name": "python",
   "nbconvert_exporter": "python",
   "pygments_lexer": "ipython3",
   "version": "3.9.12"
  },
  "orig_nbformat": 4
 },
 "nbformat": 4,
 "nbformat_minor": 2
}
