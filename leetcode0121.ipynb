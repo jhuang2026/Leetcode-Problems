{
 "cells": [
  {
   "cell_type": "code",
   "execution_count": null,
   "metadata": {},
   "outputs": [],
   "source": [
    "# 0121 Best Time to Buy and Sell Stock\n",
    "\n",
    "# Given an array of integers prices where prices[i] is the price of a given stock on the ith day.\n",
    "# Return the maximum profit you can achieve from this transaction. If you cannot achieve any profit, return 0\n",
    "\n",
    "def maxProfit(prices):\n",
    "\n",
    "    min_price = prices[0]\n",
    "    max_profit = 0\n",
    "\n",
    "    # The algorithm iterates through the prices and keeps track of the minimum price seen so far.\n",
    "    # Then, for each price, we check if we can get a better profit than the best profit we have seen so far.\n",
    "    for i in range(1, len(prices)):\n",
    "        if prices[i] < min_price:\n",
    "            min_price = prices[i]\n",
    "        elif prices[i] - min_price > max_profit:\n",
    "            max_profit = prices[i] - min_price\n",
    "    return max_profit"
   ]
  }
 ],
 "metadata": {
  "kernelspec": {
   "display_name": "base",
   "language": "python",
   "name": "python3"
  },
  "language_info": {
   "codemirror_mode": {
    "name": "ipython",
    "version": 3
   },
   "file_extension": ".py",
   "mimetype": "text/x-python",
   "name": "python",
   "nbconvert_exporter": "python",
   "pygments_lexer": "ipython3",
   "version": "3.9.12"
  },
  "orig_nbformat": 4
 },
 "nbformat": 4,
 "nbformat_minor": 2
}
