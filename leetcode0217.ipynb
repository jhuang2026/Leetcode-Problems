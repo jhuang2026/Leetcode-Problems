{
 "cells": [
  {
   "cell_type": "code",
   "execution_count": 1,
   "metadata": {},
   "outputs": [
    {
     "ename": "NameError",
     "evalue": "name 'List' is not defined",
     "output_type": "error",
     "traceback": [
      "\u001b[0;31m---------------------------------------------------------------------------\u001b[0m",
      "\u001b[0;31mNameError\u001b[0m                                 Traceback (most recent call last)",
      "\u001b[1;32m/Users/jhuang/Downloads/Leetcode-Problems/leetcode0217.ipynb Cell 1\u001b[0m in \u001b[0;36m<cell line: 5>\u001b[0;34m()\u001b[0m\n\u001b[1;32m      <a href='vscode-notebook-cell:/Users/jhuang/Downloads/Leetcode-Problems/leetcode0217.ipynb#W0sZmlsZQ%3D%3D?line=0'>1</a>\u001b[0m \u001b[39m# 0217 Contains Duplicate\u001b[39;00m\n\u001b[1;32m      <a href='vscode-notebook-cell:/Users/jhuang/Downloads/Leetcode-Problems/leetcode0217.ipynb#W0sZmlsZQ%3D%3D?line=1'>2</a>\u001b[0m \n\u001b[1;32m      <a href='vscode-notebook-cell:/Users/jhuang/Downloads/Leetcode-Problems/leetcode0217.ipynb#W0sZmlsZQ%3D%3D?line=2'>3</a>\u001b[0m \u001b[39m# Given array of integers, return true if any value appears at least twice in array, and return false if every element is distinct.\u001b[39;00m\n\u001b[0;32m----> <a href='vscode-notebook-cell:/Users/jhuang/Downloads/Leetcode-Problems/leetcode0217.ipynb#W0sZmlsZQ%3D%3D?line=4'>5</a>\u001b[0m \u001b[39mclass\u001b[39;00m \u001b[39mSolution\u001b[39;00m:\n\u001b[1;32m      <a href='vscode-notebook-cell:/Users/jhuang/Downloads/Leetcode-Problems/leetcode0217.ipynb#W0sZmlsZQ%3D%3D?line=5'>6</a>\u001b[0m     \u001b[39mdef\u001b[39;00m \u001b[39mcontainsDuplicate\u001b[39m(\u001b[39mself\u001b[39m, nums: List[\u001b[39mint\u001b[39m]) \u001b[39m-\u001b[39m\u001b[39m>\u001b[39m \u001b[39mbool\u001b[39m:\n\u001b[1;32m      <a href='vscode-notebook-cell:/Users/jhuang/Downloads/Leetcode-Problems/leetcode0217.ipynb#W0sZmlsZQ%3D%3D?line=6'>7</a>\u001b[0m         \u001b[39m# Use set to store the unique elements, helps efficiently check if a value already exists\u001b[39;00m\n\u001b[1;32m      <a href='vscode-notebook-cell:/Users/jhuang/Downloads/Leetcode-Problems/leetcode0217.ipynb#W0sZmlsZQ%3D%3D?line=7'>8</a>\u001b[0m         seen \u001b[39m=\u001b[39m \u001b[39mset\u001b[39m()\n",
      "\u001b[1;32m/Users/jhuang/Downloads/Leetcode-Problems/leetcode0217.ipynb Cell 1\u001b[0m in \u001b[0;36mSolution\u001b[0;34m()\u001b[0m\n\u001b[1;32m      <a href='vscode-notebook-cell:/Users/jhuang/Downloads/Leetcode-Problems/leetcode0217.ipynb#W0sZmlsZQ%3D%3D?line=4'>5</a>\u001b[0m \u001b[39mclass\u001b[39;00m \u001b[39mSolution\u001b[39;00m:\n\u001b[0;32m----> <a href='vscode-notebook-cell:/Users/jhuang/Downloads/Leetcode-Problems/leetcode0217.ipynb#W0sZmlsZQ%3D%3D?line=5'>6</a>\u001b[0m     \u001b[39mdef\u001b[39;00m \u001b[39mcontainsDuplicate\u001b[39m(\u001b[39mself\u001b[39m, nums: List[\u001b[39mint\u001b[39m]) \u001b[39m-\u001b[39m\u001b[39m>\u001b[39m \u001b[39mbool\u001b[39m:\n\u001b[1;32m      <a href='vscode-notebook-cell:/Users/jhuang/Downloads/Leetcode-Problems/leetcode0217.ipynb#W0sZmlsZQ%3D%3D?line=6'>7</a>\u001b[0m         \u001b[39m# Use set to store the unique elements, helps efficiently check if a value already exists\u001b[39;00m\n\u001b[1;32m      <a href='vscode-notebook-cell:/Users/jhuang/Downloads/Leetcode-Problems/leetcode0217.ipynb#W0sZmlsZQ%3D%3D?line=7'>8</a>\u001b[0m         seen \u001b[39m=\u001b[39m \u001b[39mset\u001b[39m()\n\u001b[1;32m      <a href='vscode-notebook-cell:/Users/jhuang/Downloads/Leetcode-Problems/leetcode0217.ipynb#W0sZmlsZQ%3D%3D?line=8'>9</a>\u001b[0m         \u001b[39mfor\u001b[39;00m num \u001b[39min\u001b[39;00m nums:\n",
      "\u001b[0;31mNameError\u001b[0m: name 'List' is not defined"
     ]
    }
   ],
   "source": [
    "# 0217 Contains Duplicate\n",
    "\n",
    "# Given array of integers, return true if any value appears at least twice in array, and return false if every element is distinct.\n",
    "\n",
    "class Solution:\n",
    "    def containsDuplicate(nums):\n",
    "        # Use set to store the unique elements, helps efficiently check if a value already exists\n",
    "        seen = set()\n",
    "        for num in nums:\n",
    "            if num in seen:\n",
    "                return True\n",
    "            seen.add(num)\n",
    "        return False"
   ]
  },
  {
   "cell_type": "code",
   "execution_count": null,
   "metadata": {},
   "outputs": [],
   "source": []
  }
 ],
 "metadata": {
  "kernelspec": {
   "display_name": "base",
   "language": "python",
   "name": "python3"
  },
  "language_info": {
   "codemirror_mode": {
    "name": "ipython",
    "version": 3
   },
   "file_extension": ".py",
   "mimetype": "text/x-python",
   "name": "python",
   "nbconvert_exporter": "python",
   "pygments_lexer": "ipython3",
   "version": "3.9.12"
  },
  "orig_nbformat": 4
 },
 "nbformat": 4,
 "nbformat_minor": 2
}
