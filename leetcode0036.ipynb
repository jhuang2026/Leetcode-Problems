{
 "cells": [
  {
   "cell_type": "code",
   "execution_count": null,
   "metadata": {},
   "outputs": [],
   "source": [
    "# 0036 Valid Sudoku\n",
    "\n",
    "# Determine if a 9x9 Sudoku board is valid\n",
    "    # Each row must contain the digits 1-9 without repetition.\n",
    "    # Each column must contain the digits 1-9 without repetition.\n",
    "    # Each of the 9 3x3 sub-boxes of the grid must contain the digits 1-9 without repetition.\n",
    "\n",
    "def isValidSudoku(board):\n",
    "    # check rows\n",
    "    for i in range(9):\n",
    "        row = board[i]\n",
    "        row = [x for x in row if x != '.']\n",
    "        # Uses set() to remove duplicates\n",
    "        if len(row) != len(set(row)):\n",
    "            return False\n",
    "        \n",
    "    # check columns\n",
    "    for i in range(9):\n",
    "        column = [board[j][i] for j in range(9)]\n",
    "        column = [x for x in column if x != '.']\n",
    "        if len(column) != len(set(column)):\n",
    "            return False\n",
    "        \n",
    "    # check sub-boxes by iterating down then across\n",
    "    for i in range(3):\n",
    "        for j in range(3):\n",
    "            sub_box = [board[m][n] for m in range(3*i, 3*i+3) for n in range(3*j, 3*j+3)]\n",
    "            sub_box = [x for x in sub_box if x != '.']\n",
    "            if len(sub_box) != len(set(sub_box)):\n",
    "                return False\n",
    "    return True"
   ]
  }
 ],
 "metadata": {
  "kernelspec": {
   "display_name": "base",
   "language": "python",
   "name": "python3"
  },
  "language_info": {
   "codemirror_mode": {
    "name": "ipython",
    "version": 3
   },
   "file_extension": ".py",
   "mimetype": "text/x-python",
   "name": "python",
   "nbconvert_exporter": "python",
   "pygments_lexer": "ipython3",
   "version": "3.9.12"
  },
  "orig_nbformat": 4
 },
 "nbformat": 4,
 "nbformat_minor": 2
}
