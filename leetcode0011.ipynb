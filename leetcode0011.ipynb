{
 "cells": [
  {
   "cell_type": "code",
   "execution_count": 7,
   "metadata": {},
   "outputs": [],
   "source": [
    "# 0011 Container With Most Water\n",
    "\n",
    "# Given an integer array heights where heights[i] represents the height of the rectangle bar at index i,\n",
    "# return the largest area of two bars based on height and distance between them (index).\n",
    "\n",
    "def maxArea(height):\n",
    "\n",
    "    # Time complexity: O(n^2)\n",
    "    max_area = 0\n",
    "    for i in range(len(height)):\n",
    "        for j in range(i+1, len(height)):\n",
    "            max_area = max(max_area, min(height[i], height[j]) * (j-i))\n",
    "    return max_area\n",
    "\n",
    "def maxArea2(height):\n",
    "\n",
    "    # Time complexity: O(n)\n",
    "    # Uses two pointers, one at the beginning and one at the end\n",
    "    # Move the pointer with the smaller height inwards\n",
    "    # The area is limited by the smaller height\n",
    "    max_area = 0\n",
    "    i = 0\n",
    "    j = len(height) - 1\n",
    "    while i < j:\n",
    "        max_area = max(max_area, min(height[i], height[j]) * (j-i))\n",
    "        if height[i] < height[j]:\n",
    "            i += 1\n",
    "        else:\n",
    "            j -= 1\n",
    "    return max_area"
   ]
  }
 ],
 "metadata": {
  "kernelspec": {
   "display_name": "base",
   "language": "python",
   "name": "python3"
  },
  "language_info": {
   "codemirror_mode": {
    "name": "ipython",
    "version": 3
   },
   "file_extension": ".py",
   "mimetype": "text/x-python",
   "name": "python",
   "nbconvert_exporter": "python",
   "pygments_lexer": "ipython3",
   "version": "3.9.12"
  },
  "orig_nbformat": 4
 },
 "nbformat": 4,
 "nbformat_minor": 2
}
